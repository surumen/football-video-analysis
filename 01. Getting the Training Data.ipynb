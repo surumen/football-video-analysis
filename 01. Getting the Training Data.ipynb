{
 "cells": [
  {
   "cell_type": "markdown",
   "id": "c06e43d4-5d20-48ab-89b1-92d8263c9b0b",
   "metadata": {},
   "source": [
    "## Creating the Training Data"
   ]
  },
  {
   "cell_type": "markdown",
   "id": "f814b803-2e63-4fae-96d7-f1ef1e6dd553",
   "metadata": {},
   "source": [
    "In this notebook, we will create the training data.\n",
    "Football players dataset: https://universe.roboflow.com/roboflow-jvuqo/football-players-detection-3zvbc/dataset/8/download"
   ]
  },
  {
   "cell_type": "code",
   "execution_count": 25,
   "id": "8ca20fca-c708-4675-b9cc-64534f482fef",
   "metadata": {},
   "outputs": [],
   "source": [
    "# Import packages\n",
    "import os\n",
    "import sys\n",
    "import shutil\n",
    "sys.path.append('./')\n",
    "\n",
    "from roboflow import Roboflow\n",
    "from ultralytics import YOLO"
   ]
  },
  {
   "cell_type": "code",
   "execution_count": 13,
   "id": "51b4bf24-905d-403f-87ad-92997934b644",
   "metadata": {},
   "outputs": [
    {
     "name": "stdout",
     "output_type": "stream",
     "text": [
      "The dotenv extension is already loaded. To reload it, use:\n",
      "  %reload_ext dotenv\n"
     ]
    }
   ],
   "source": [
    "%load_ext dotenv\n",
    "%dotenv"
   ]
  },
  {
   "cell_type": "markdown",
   "id": "2327ec42-0d68-40b6-9ca7-15d212704e10",
   "metadata": {},
   "source": [
    "  "
   ]
  },
  {
   "cell_type": "markdown",
   "id": "91198326-e9ac-4d58-be36-51524b166ccd",
   "metadata": {},
   "source": [
    "## Download Training Dataset"
   ]
  },
  {
   "cell_type": "markdown",
   "id": "8562dc17-3bdf-43e0-a410-3d4592d315e3",
   "metadata": {},
   "source": [
    "We will use the dataset from Roboflow to train our model"
   ]
  },
  {
   "cell_type": "code",
   "execution_count": 21,
   "id": "1a7c23a4-077b-480c-bed2-129839eadd96",
   "metadata": {},
   "outputs": [
    {
     "name": "stdout",
     "output_type": "stream",
     "text": [
      "loading Roboflow workspace...\n",
      "loading Roboflow project...\n",
      "Dependency ultralytics==8.0.196 is required but found version=8.2.8, to fix: `pip install ultralytics==8.0.196`\n"
     ]
    }
   ],
   "source": [
    "rf = Roboflow(api_key=os.getenv('ROBOFLOW_API_KEY'))\n",
    "project = rf.workspace('roboflow-jvuqo').project('football-players-detection-3zvbc')\n",
    "version = project.version(8)\n",
    "dataset = version.download('yolov8')"
   ]
  },
  {
   "cell_type": "markdown",
   "id": "2e842e54-0c38-4fcd-87e4-406f97bc8ef5",
   "metadata": {},
   "source": [
    "  "
   ]
  },
  {
   "cell_type": "markdown",
   "id": "735f523c-b970-4e0f-bf04-5b4c10f2e6a2",
   "metadata": {},
   "source": [
    "(Optional) Create training data folder, and move downloaded data to that folder"
   ]
  },
  {
   "cell_type": "code",
   "execution_count": 22,
   "id": "34857bd9-1860-428e-b8db-deca9db5d540",
   "metadata": {},
   "outputs": [
    {
     "data": {
      "text/plain": [
       "'/Users/moses/Desktop/Projects/football-analysis/football-players-detection-8'"
      ]
     },
     "execution_count": 22,
     "metadata": {},
     "output_type": "execute_result"
    }
   ],
   "source": [
    "#dataset.location = os.path.join(os.getcwd(), 'data/training/')\n",
    "dataset.location"
   ]
  },
  {
   "cell_type": "markdown",
   "id": "ab12cda5-17b7-4c63-80c5-90866405324e",
   "metadata": {},
   "source": [
    "## Train the Model"
   ]
  },
  {
   "cell_type": "markdown",
   "id": "b8b1a07b-74ba-4cf4-a158-68da724b0fb7",
   "metadata": {},
   "source": "I did the training for the model we're going to use in a Colab notebook. After training, you copy the generated files `runs/detect/predict/best.pt` and `last.pt` and run the model on a sample input video."
  },
  {
   "cell_type": "code",
   "execution_count": 27,
   "id": "5e321f18-4019-4d22-8624-09522243ec08",
   "metadata": {},
   "outputs": [],
   "source": [
    "model = YOLO('data/models/best.pt')"
   ]
  },
  {
   "cell_type": "code",
   "execution_count": null,
   "id": "7570323a-ed8a-461e-a4a8-b715bbee2d95",
   "metadata": {},
   "outputs": [],
   "source": [
    "results = model.predict('data/testing/france_vs_belgium_2018.mp4',save=True)"
   ]
  }
 ],
 "metadata": {
  "kernelspec": {
   "display_name": "venv",
   "language": "python",
   "name": "venv"
  },
  "language_info": {
   "codemirror_mode": {
    "name": "ipython",
    "version": 3
   },
   "file_extension": ".py",
   "mimetype": "text/x-python",
   "name": "python",
   "nbconvert_exporter": "python",
   "pygments_lexer": "ipython3",
   "version": "3.12.2"
  }
 },
 "nbformat": 4,
 "nbformat_minor": 5
}
